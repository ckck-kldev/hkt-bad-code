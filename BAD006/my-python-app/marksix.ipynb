{
 "cells": [
  {
   "cell_type": "code",
   "execution_count": 6,
   "metadata": {},
   "outputs": [
    {
     "name": "stdout",
     "output_type": "stream",
     "text": [
      "True\n",
      "False\n",
      "True\n"
     ]
    }
   ],
   "source": [
    "def check_mark_six(result_array, mark_array):\n",
    "    # Your code\n",
    "    x = 0\n",
    "    for mark in mark_array:\n",
    "        for result in result_array:\n",
    "            if result == mark:\n",
    "                x += 1\n",
    "                if x == 2:\n",
    "                    return True\n",
    "    return False\n",
    "\n",
    "print(check_mark_six([1, 3, 5, 7, 9, 11], [1, 3])); # returns: True\n",
    "print(check_mark_six([1, 3, 5, 7, 9, 11], [2, 3])); # returns: False\n",
    "print(check_mark_six([2, 4, 10, 15, 14, 19], [2, 19])); # returns: True"
   ]
  }
 ],
 "metadata": {
  "kernelspec": {
   "display_name": ".pyenv",
   "language": "python",
   "name": "python3"
  },
  "language_info": {
   "codemirror_mode": {
    "name": "ipython",
    "version": 3
   },
   "file_extension": ".py",
   "mimetype": "text/x-python",
   "name": "python",
   "nbconvert_exporter": "python",
   "pygments_lexer": "ipython3",
   "version": "3.10.9"
  },
  "orig_nbformat": 4
 },
 "nbformat": 4,
 "nbformat_minor": 2
}
