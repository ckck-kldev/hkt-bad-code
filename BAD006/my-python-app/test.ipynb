{
 "cells": [
  {
   "cell_type": "code",
   "execution_count": 4,
   "metadata": {},
   "outputs": [
    {
     "data": {
      "text/plain": [
       "array([ 4, 10, 18, 28])"
      ]
     },
     "execution_count": 4,
     "metadata": {},
     "output_type": "execute_result"
    }
   ],
   "source": [
    "import numpy as np\n",
    "\n",
    "a = np.array([1,2,3,4])\n",
    "\n",
    "b = np.array([4,5,6,7])\n"
   ]
  },
  {
   "cell_type": "code",
   "execution_count": 5,
   "metadata": {},
   "outputs": [
    {
     "data": {
      "text/plain": [
       "array([ 4, 10, 18, 28])"
      ]
     },
     "execution_count": 5,
     "metadata": {},
     "output_type": "execute_result"
    }
   ],
   "source": [
    "a * b"
   ]
  },
  {
   "cell_type": "code",
   "execution_count": 8,
   "metadata": {},
   "outputs": [
    {
     "data": {
      "text/plain": [
       "array([[-120,   -9,  118,  -63,   45,  -15,   75,  -43,   17,   38],\n",
       "       [  98,   85,   27,    7,  106,  -21,   20,  -23,  -33, -112],\n",
       "       [  78,  118,  -41,   12,   87,  -48,   62,   45,   -4,  110],\n",
       "       [  48,    0,  -20,  112,  -85,  -88,  -84,   81,   57,   60],\n",
       "       [-114,  121,  118,  -26,  107,   -7,  -90,  -92,   63,  -52],\n",
       "       [ -16,   64,   22,   18,   57,   -4,  -26,   98,   33,  109],\n",
       "       [ -39,   38, -104, -117,    6, -111, -117,   -3, -120,  127],\n",
       "       [  -8,  -31, -100,    5,  -31,   87,  -37,  -17,  -15,  -36],\n",
       "       [ -59,   58,   74,   71,   40,  104,   96,  -51,   93,  111],\n",
       "       [ -55,  116, -108,  -11,   92,  -84,  -57,  -85, -104,  -57]],\n",
       "      dtype=int8)"
      ]
     },
     "execution_count": 8,
     "metadata": {},
     "output_type": "execute_result"
    }
   ],
   "source": [
    "colors = np.random.random(100).reshape([10,10])*255\n",
    "colors.astype(np.int8)"
   ]
  },
  {
   "cell_type": "code",
   "execution_count": 17,
   "metadata": {},
   "outputs": [],
   "source": [
    "# gen RGB\n",
    "\n",
    "from PIL import Image as im \n",
    "colors = np.random.random(3000000).reshape([1000,1000,3]).astype(np.float32)\n",
    "data = im.fromarray(colors, 'RGB')\n",
    "\n",
    "data.save(\"random.png\")\n",
    "\n",
    "data.show()"
   ]
  },
  {
   "cell_type": "code",
   "execution_count": null,
   "metadata": {},
   "outputs": [],
   "source": [
    "# gen gray image\n",
    "\n",
    "\n"
   ]
  }
 ],
 "metadata": {
  "kernelspec": {
   "display_name": ".pyenv",
   "language": "python",
   "name": "python3"
  },
  "language_info": {
   "codemirror_mode": {
    "name": "ipython",
    "version": 3
   },
   "file_extension": ".py",
   "mimetype": "text/x-python",
   "name": "python",
   "nbconvert_exporter": "python",
   "pygments_lexer": "ipython3",
   "version": "3.10.9"
  },
  "orig_nbformat": 4
 },
 "nbformat": 4,
 "nbformat_minor": 2
}
